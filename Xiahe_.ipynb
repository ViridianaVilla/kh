{
 "cells": [
  {
   "cell_type": "markdown",
   "metadata": {},
   "source": [
    "## Xiahe mandible"
   ]
  },
  {
   "cell_type": "markdown",
   "metadata": {},
   "source": [
    "The right half of a hominin mandible (hereafter, the Xiahe mandible) was found in Baishiya Karst Cave in 1980.  A recent excavation revealed the presence of abundant Palaeolithic stone artefacts and cut-marked animal bones in Baishiya Karst Cave. Date 160 kyr bp."
   ]
  },
  {
   "cell_type": "markdown",
   "metadata": {},
   "source": [
    "There is no evidence for the preservation of ancient DNA in the Xiahe mandible (Methods). \n",
    "However, palaeoproteomic analysis revealed the survival of an endogenous ancient proteome in a dentine sample."
   ]
  },
  {
   "cell_type": "markdown",
   "metadata": {},
   "source": [
    "You sent the purified proteins to LC-MS/MS analysis, got the results and identified the peptides. The information obtained was enough to reconstruct 6 partial sequences for some collagens. "
   ]
  },
  {
   "cell_type": "code",
   "execution_count": null,
   "metadata": {},
   "outputs": [],
   "source": [
    "%%bash\n",
    "pwd\n",
    "ls"
   ]
  },
  {
   "cell_type": "markdown",
   "metadata": {},
   "source": [
    "Hominins therefore occupied the Tibetan Plateau at least as early as marine isotope stage 6 in the penultimate glacial period."
   ]
  },
  {
   "cell_type": "markdown",
   "metadata": {},
   "source": [
    "Inside this directory create a file with the list of the proteins of interest Proteins.txt, one protein name per line. For example : "
   ]
  },
  {
   "cell_type": "markdown",
   "metadata": {},
   "source": [
    "Now initiate the module Initiator to call for the sequences of "
   ]
  },
  {
   "cell_type": "markdown",
   "metadata": {},
   "source": [
    "Create a file containing the organisms you will include in your phylogenetic analysis"
   ]
  },
  {
   "cell_type": "markdown",
   "metadata": {},
   "source": [
    "Now call from ensembl the sequences of your species of reference "
   ]
  },
  {
   "cell_type": "code",
   "execution_count": null,
   "metadata": {},
   "outputs": [],
   "source": [
    "%%bash\n",
    "cat Xiahe.fa homo_sapiens_outgroups_Archaic_Xiahe_canonical.fa >  Xiahe_rep.fa"
   ]
  },
  {
   "cell_type": "code",
   "execution_count": null,
   "metadata": {},
   "outputs": [],
   "source": [
    "%%bash\n",
    "cp Xiahe_rep.fa ./Workspace/1_OG_Dataset/"
   ]
  },
  {
   "cell_type": "code",
   "execution_count": null,
   "metadata": {},
   "outputs": [],
   "source": [
    "%%bash\n",
    "echo Dataset   Ancient_Samples > Datasets.txt\n",
    "echo Xiahe_rep.fa   Xiahe >> Datasets.txt"
   ]
  },
  {
   "cell_type": "code",
   "execution_count": null,
   "metadata": {},
   "outputs": [],
   "source": [
    "%%bash\n",
    "snakemake -j4"
   ]
  }
 ],
 "metadata": {
  "hide_input": false,
  "kernelspec": {
   "display_name": "Python 3 (ipykernel)",
   "language": "python",
   "name": "python3"
  },
  "language_info": {
   "codemirror_mode": {
    "name": "ipython",
    "version": 3
   },
   "file_extension": ".py",
   "mimetype": "text/x-python",
   "name": "python",
   "nbconvert_exporter": "python",
   "pygments_lexer": "ipython3",
   "version": "3.12.7"
  },
  "toc": {
   "base_numbering": 1,
   "nav_menu": {},
   "number_sections": true,
   "sideBar": true,
   "skip_h1_title": false,
   "title_cell": "Table of Contents",
   "title_sidebar": "Contents",
   "toc_cell": false,
   "toc_position": {},
   "toc_section_display": true,
   "toc_window_display": false
  }
 },
 "nbformat": 4,
 "nbformat_minor": 4
}
